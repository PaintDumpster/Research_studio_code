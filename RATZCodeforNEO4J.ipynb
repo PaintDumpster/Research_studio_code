{
  "nbformat": 4,
  "nbformat_minor": 0,
  "metadata": {
    "colab": {
      "provenance": [],
      "authorship_tag": "ABX9TyM9Ca1zXt3Tdx4dAKR2sGpr",
      "include_colab_link": true
    },
    "kernelspec": {
      "name": "python3",
      "display_name": "Python 3"
    },
    "language_info": {
      "name": "python"
    }
  },
  "cells": [
    {
      "cell_type": "markdown",
      "metadata": {
        "id": "view-in-github",
        "colab_type": "text"
      },
      "source": [
        "<a href=\"https://colab.research.google.com/github/PaintDumpster/Research_studio_code/blob/main/RATZCodeforNEO4J.ipynb\" target=\"_parent\"><img src=\"https://colab.research.google.com/assets/colab-badge.svg\" alt=\"Open In Colab\"/></a>"
      ]
    },
    {
      "cell_type": "code",
      "execution_count": 22,
      "metadata": {
        "colab": {
          "base_uri": "https://localhost:8080/"
        },
        "id": "GKCSzeO1moel",
        "outputId": "80715b86-5bf7-4886-f505-8f8a82d76a6b"
      },
      "outputs": [
        {
          "output_type": "stream",
          "name": "stdout",
          "text": [
            "Requirement already satisfied: neo4j in /usr/local/lib/python3.10/dist-packages (5.27.0)\n",
            "Requirement already satisfied: pandas in /usr/local/lib/python3.10/dist-packages (2.2.2)\n",
            "Requirement already satisfied: tqdm in /usr/local/lib/python3.10/dist-packages (4.66.6)\n",
            "Requirement already satisfied: pytz in /usr/local/lib/python3.10/dist-packages (from neo4j) (2024.2)\n",
            "Requirement already satisfied: numpy>=1.22.4 in /usr/local/lib/python3.10/dist-packages (from pandas) (1.26.4)\n",
            "Requirement already satisfied: python-dateutil>=2.8.2 in /usr/local/lib/python3.10/dist-packages (from pandas) (2.8.2)\n",
            "Requirement already satisfied: tzdata>=2022.7 in /usr/local/lib/python3.10/dist-packages (from pandas) (2024.2)\n",
            "Requirement already satisfied: six>=1.5 in /usr/local/lib/python3.10/dist-packages (from python-dateutil>=2.8.2->pandas) (1.16.0)\n"
          ]
        }
      ],
      "source": [
        "!pip install neo4j pandas tqdm"
      ]
    },
    {
      "cell_type": "code",
      "source": [
        "import json\n",
        "from neo4j import GraphDatabase\n",
        "from tqdm import tqdm\n",
        "\n",
        "class Neo4jConnection:\n",
        "    def __init__(self, uri, user, pwd):\n",
        "        self.__uri = uri\n",
        "        self.__user = user\n",
        "        self.__pwd = pwd\n",
        "        self.__driver = None\n",
        "        try:\n",
        "            self.__driver = GraphDatabase.driver(self.__uri, auth=(self.__user, self.__pwd))\n",
        "        except Exception as e:\n",
        "            print(\"Failed to create the driver:\", e)\n",
        "\n",
        "    def close(self):\n",
        "        if self.__driver is not None:\n",
        "            self.__driver.close()\n",
        "\n",
        "    def query(self, query, parameters=None, db=None):\n",
        "        assert self.__driver is not None, \"Driver not initialized!\"\n",
        "        session = None\n",
        "        response = None\n",
        "        try:\n",
        "            session = self.__driver.session(database=db) if db is not None else self.__driver.session()\n",
        "            response = list(session.run(query, parameters))\n",
        "        except Exception as e:\n",
        "            print(\"Query failed:\", e)\n",
        "        finally:\n",
        "            if session is not None:\n",
        "                session.close()\n",
        "        return response\n"
      ],
      "metadata": {
        "id": "yYJryUTz5N1d"
      },
      "execution_count": 23,
      "outputs": []
    },
    {
      "cell_type": "code",
      "source": [
        "def populate_neo4j(conn, data):\n",
        "    with conn.__driver.session() as session:  # Use a transaction\n",
        "        for wall_data in tqdm(data[\"walls\"], total=len(data[\"walls\"])):\n",
        "            wall_id = wall_data[\"id\"]\n",
        "            materials = wall_data[\"materials\"]\n",
        "\n",
        "            # Create Wall node\n",
        "            session.run(\"\"\"\n",
        "                MERGE (w:Wall {id: $wall_id})\n",
        "            \"\"\", parameters={'wall_id': wall_id})\n",
        "\n",
        "            # Create Material nodes and relationships\n",
        "            for material in materials:\n",
        "                session.run(\"\"\"\n",
        "                    MERGE (m:Material {name: $name})\n",
        "                    ON CREATE SET m.density = $density, m.conductivity = $conductivity,\n",
        "                                 m.u_value = $u_value, m.embodied_carbon_coefficient = $carbon_coeff,\n",
        "                                 m.cost = $cost, m.recyclability = $recyclability,\n",
        "                                 m.bio_based = $bio_based, m.color = $color\n",
        "                    ON MATCH SET m.density = $density, m.conductivity = $conductivity,\n",
        "                                 m.u_value = $u_value, m.embodied_carbon_coefficient = $carbon_coeff,\n",
        "                                 m.cost = $cost, m.recyclability = $recyclability,\n",
        "                                 m.bio_based = $bio_based, m.color = $color\n",
        "                    MERGE (w:Wall {id: $wall_id})\n",
        "                    MERGE (m)-[:USED_IN {thickness: $thickness}]->(w)\n",
        "                \"\"\", parameters={\n",
        "                    'name': material['material'],\n",
        "                    'wall_id': wall_id,\n",
        "                    'thickness': material['thickness'],\n",
        "                    'density': material['density'],\n",
        "                    'conductivity': material['conductivity'],\n",
        "                    'u_value': material['u_value'],\n",
        "                    'carbon_coeff': material['embodied_carbon_coefficient'],\n",
        "                    'cost': material['cost'],\n",
        "                    'recyclability': material['recyclability'],\n",
        "                    'bio_based': material['bio_based'],\n",
        "                    'color': material['color']\n",
        "                })"
      ],
      "metadata": {
        "id": "vbjJnzIG5R3b"
      },
      "execution_count": 39,
      "outputs": []
    },
    {
      "cell_type": "code",
      "source": [
        "if __name__ == \"__main__\":\n",
        "    # Path to your JSON file\n",
        "    file_path = '/content/wall_population.json'\n",
        "\n",
        "    # Load JSON data\n",
        "    print(\"Loading data...\")\n",
        "    with open(file_path, 'r') as f:\n",
        "        data = json.load(f)\n",
        "\n",
        "    # Neo4j connection details\n",
        "    uri = \"neo4j+s://abc70c77.databases.neo4j.io\"  # Replace with your Neo4j URI\n",
        "    user = \"neo4j\"                 # Replace with your Neo4j username\n",
        "    password = \"cFpznjeEWz2vXfs2r2hDM93V2xNgGA1dDeQuV24-x4A\"          # Replace with your Neo4j password\n",
        "\n",
        "    # Establish connection\n",
        "    print(\"Connecting to Neo4j...\")\n",
        "    conn = Neo4jConnection(uri, user, password)\n",
        "\n",
        "    # Populate Neo4j database\n",
        "    print(\"Populating the Neo4j database...\")\n",
        "    populate_neo4j(conn, data)\n",
        "\n",
        "    # Close connection\n",
        "    conn.close()\n",
        "    print(\"Neo4j database population complete.\")\n"
      ],
      "metadata": {
        "colab": {
          "base_uri": "https://localhost:8080/"
        },
        "id": "HVJGliov5Uug",
        "outputId": "a503135d-bf02-4c15-c8ac-e62890fbc116"
      },
      "execution_count": 25,
      "outputs": [
        {
          "output_type": "stream",
          "name": "stdout",
          "text": [
            "Loading data...\n",
            "Connecting to Neo4j...\n",
            "Populating the Neo4j database...\n",
            "Neo4j database population complete.\n"
          ]
        }
      ]
    }
  ]
}